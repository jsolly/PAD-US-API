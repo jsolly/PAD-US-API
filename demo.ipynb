{
 "cells": [
  {
   "cell_type": "code",
   "execution_count": 2,
   "metadata": {},
   "outputs": [],
   "source": [
    "import json\n",
    "import requests\n",
    "import geopandas as gpd\n",
    "from shapely.geometry import Polygon, MultiPolygon\n",
    "import pandas as pd"
   ]
  },
  {
   "attachments": {},
   "cell_type": "markdown",
   "metadata": {},
   "source": [
    "## Code to convert Esri FeatureSets to GeoJSON"
   ]
  },
  {
   "cell_type": "code",
   "execution_count": 3,
   "metadata": {},
   "outputs": [],
   "source": [
    "def process_features(features):\n",
    "    # Convert 'rings' into shapely Polygon/MultiPolygon objects\n",
    "    def convert_geometry(rings):\n",
    "        if len(rings) == 1:\n",
    "            return Polygon(rings[0])\n",
    "        else:\n",
    "            # Assuming each 'ring' in 'rings' should be a separate polygon\n",
    "            return MultiPolygon([Polygon(ring) for ring in rings])\n",
    "\n",
    "    for feature in features:\n",
    "        feature['geometry'] = convert_geometry(feature['geometry']['rings'])\n",
    "        feature['properties'] = feature.pop('attributes')  # rename 'attributes' to 'properties'\n",
    "\n",
    "    return features"
   ]
  },
  {
   "attachments": {},
   "cell_type": "markdown",
   "metadata": {},
   "source": [
    "## Visualize Area of interest"
   ]
  },
  {
   "cell_type": "code",
   "execution_count": null,
   "metadata": {},
   "outputs": [],
   "source": [
    "with open(\"US_PAD/tests/AOI_Yosemite.json\") as aoi:\n",
    "    aoi = json.load(aoi)\n",
    "\n",
    "features = process_features(aoi[\"features\"]) # convert Esri FeatureSet to shapely geometry objects\n",
    "\n",
    "gdf = gpd.GeoDataFrame.from_features(aoi[\"features\"])\n",
    "gdf.crs = \"EPSG:4326\"\n",
    "gdf.explore()"
   ]
  },
  {
   "attachments": {},
   "cell_type": "markdown",
   "metadata": {},
   "source": [
    "## Query Intersect Endpoint and Display intersecting protected areas"
   ]
  },
  {
   "cell_type": "code",
   "execution_count": null,
   "metadata": {},
   "outputs": [],
   "source": [
    "with open(\"US_PAD/tests/AOI_Yosemite.json\") as aoi_file:\n",
    "    aoi = json.load(aoi_file)\n",
    "\n",
    "data = {\"aoi\": aoi}\n",
    "response = requests.post(\"http://localhost:8000/padApi/aoi-intersect\", data=json.dumps(data))\n",
    "featureset_features_list = response.json()\n",
    "intersected_features_shapely = process_features(featureset_features_list)\n",
    "\n",
    "gdf = gpd.GeoDataFrame.from_features(intersected_features_shapely)\n",
    "gdf.crs = \"EPSG:4326\"\n",
    "gdf.explore()"
   ]
  },
  {
   "attachments": {},
   "cell_type": "markdown",
   "metadata": {},
   "source": [
    "## Query Overlap Endpoint and Display results in a table"
   ]
  },
  {
   "cell_type": "code",
   "execution_count": 10,
   "metadata": {},
   "outputs": [
    {
     "data": {
      "text/html": [
       "<div>\n",
       "<style scoped>\n",
       "    .dataframe tbody tr th:only-of-type {\n",
       "        vertical-align: middle;\n",
       "    }\n",
       "\n",
       "    .dataframe tbody tr th {\n",
       "        vertical-align: top;\n",
       "    }\n",
       "\n",
       "    .dataframe thead th {\n",
       "        text-align: right;\n",
       "    }\n",
       "</style>\n",
       "<table border=\"1\" class=\"dataframe\">\n",
       "  <thead>\n",
       "    <tr style=\"text-align: right;\">\n",
       "      <th></th>\n",
       "      <th>Yosemite National Park</th>\n",
       "    </tr>\n",
       "  </thead>\n",
       "  <tbody>\n",
       "    <tr>\n",
       "      <th>FED</th>\n",
       "      <td>100</td>\n",
       "    </tr>\n",
       "  </tbody>\n",
       "</table>\n",
       "</div>"
      ],
      "text/plain": [
       "     Yosemite National Park\n",
       "FED                     100"
      ]
     },
     "metadata": {},
     "output_type": "display_data"
    }
   ],
   "source": [
    "with open('US_PAD/tests/AOI_Yosemite.json') as f:\n",
    "    aoi = json.load(f)\n",
    "\n",
    "data = {\"aoi\": aoi, \"intersected_features\": featureset_features_list}\n",
    "response = requests.post(\"http://localhost:8000/padApi/aoi-overlap\", data=json.dumps(data))\n",
    "\n",
    "# Process the response\n",
    "data = response.json()\n",
    "df = pd.DataFrame(data)\n",
    "display(df)"
   ]
  }
 ],
 "metadata": {
  "kernelspec": {
   "display_name": "venv",
   "language": "python",
   "name": "python3"
  },
  "language_info": {
   "codemirror_mode": {
    "name": "ipython",
    "version": 3
   },
   "file_extension": ".py",
   "mimetype": "text/x-python",
   "name": "python",
   "nbconvert_exporter": "python",
   "pygments_lexer": "ipython3",
   "version": "3.10.11"
  },
  "orig_nbformat": 4
 },
 "nbformat": 4,
 "nbformat_minor": 2
}
